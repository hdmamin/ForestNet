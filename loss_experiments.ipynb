{
 "cells": [
  {
   "cell_type": "code",
   "execution_count": 745,
   "metadata": {
    "ExecuteTime": {
     "end_time": "2019-06-01T23:22:22.969650Z",
     "start_time": "2019-06-01T23:22:22.963860Z"
    }
   },
   "outputs": [],
   "source": [
    "from collections import defaultdict\n",
    "from itertools import combinations\n",
    "import matplotlib.pyplot as plt\n",
    "import numpy as np\n",
    "from pathlib import Path\n",
    "import torch\n",
    "import torch.nn as nn\n",
    "import torch.nn.functional as F\n",
    "from torch.utils.data import Dataset, DataLoader, random_split\n",
    "from torchvision import datasets, models, transforms"
   ]
  },
  {
   "cell_type": "code",
   "execution_count": 127,
   "metadata": {
    "ExecuteTime": {
     "end_time": "2019-05-31T07:38:37.695479Z",
     "start_time": "2019-05-31T07:38:37.683110Z"
    }
   },
   "outputs": [],
   "source": [
    "path = Path('data')\n",
    "bs = 8\n",
    "size = 64\n",
    "imagenet_stats = np.array([[0.485, 0.456, 0.406],\n",
    "                           [0.229, 0.224, 0.225]])\n",
    "\n",
    "# Define image transforms.\n",
    "tfms = transforms.Compose([transforms.Resize(size),\n",
    "                           transforms.ToTensor(),\n",
    "                           transforms.Normalize(*imagenet_stats)])"
   ]
  },
  {
   "cell_type": "code",
   "execution_count": 735,
   "metadata": {
    "ExecuteTime": {
     "end_time": "2019-06-01T23:22:04.872432Z",
     "start_time": "2019-06-01T23:22:04.863185Z"
    }
   },
   "outputs": [],
   "source": [
    "ds = datasets.ImageFolder(path, transform=tfms)\n",
    "\n",
    "# Split into train and validation.\n",
    "train_pct = .1\n",
    "train_size = int(len(ds)*train_pct)\n",
    "val_size = len(ds) - train_size\n",
    "train_ds, val_ds = random_split(ds, [train_size, val_size])"
   ]
  },
  {
   "cell_type": "code",
   "execution_count": 736,
   "metadata": {
    "ExecuteTime": {
     "end_time": "2019-06-01T23:22:06.080391Z",
     "start_time": "2019-06-01T23:22:06.073798Z"
    }
   },
   "outputs": [
    {
     "data": {
      "text/plain": [
       "(20, 180)"
      ]
     },
     "execution_count": 736,
     "metadata": {},
     "output_type": "execute_result"
    }
   ],
   "source": [
    "train_dl = DataLoader(train_ds, batch_size=bs, shuffle=True)\n",
    "val_dl = DataLoader(val_ds, batch_size=bs, shuffle=False)\n",
    "len(train_ds), len(val_ds)"
   ]
  },
  {
   "cell_type": "code",
   "execution_count": 737,
   "metadata": {
    "ExecuteTime": {
     "end_time": "2019-06-01T23:22:07.517885Z",
     "start_time": "2019-06-01T23:22:07.512554Z"
    }
   },
   "outputs": [
    {
     "name": "stdout",
     "output_type": "stream",
     "text": [
      "{'horse': 0, 'zebra': 1}\n"
     ]
    }
   ],
   "source": [
    "print(ds.class_to_idx)"
   ]
  },
  {
   "cell_type": "code",
   "execution_count": 738,
   "metadata": {
    "ExecuteTime": {
     "end_time": "2019-06-01T23:22:08.277634Z",
     "start_time": "2019-06-01T23:22:08.250327Z"
    }
   },
   "outputs": [
    {
     "data": {
      "text/plain": [
       "(torch.Size([8, 3, 64, 64]), torch.Size([8]))"
      ]
     },
     "execution_count": 738,
     "metadata": {},
     "output_type": "execute_result"
    }
   ],
   "source": [
    "x_tmp, y_tmp = next(iter(train_dl))\n",
    "x_tmp.shape, y_tmp.shape"
   ]
  },
  {
   "cell_type": "code",
   "execution_count": 739,
   "metadata": {
    "ExecuteTime": {
     "end_time": "2019-06-01T23:22:11.989629Z",
     "start_time": "2019-06-01T23:22:11.974236Z"
    }
   },
   "outputs": [],
   "source": [
    "class KNet(nn.Module):\n",
    "    \n",
    "    def __init__(self, k):\n",
    "        \"\"\"\n",
    "        Parameters\n",
    "        -----------\n",
    "        k: int\n",
    "            Number of distinct final layers to use.\n",
    "        \"\"\"\n",
    "        super().__init__()\n",
    "        resnet = models.resnet34(pretrained=True)\n",
    "        self.resnet = nn.Sequential(*list(resnet.children())[:-1])\n",
    "        self.linear_layers = nn.ModuleList([nn.Linear(512, 1, bias=False) \n",
    "                                            for i in range(k)])\n",
    "        \n",
    "        self.k = k\n",
    "        self.n_layers = len(list(self.parameters()))\n",
    "        self.freeze()\n",
    "            \n",
    "    def forward(self, x):\n",
    "        x = self.resnet(x)\n",
    "        x = x.view(x.shape[0], -1)\n",
    "\n",
    "        outputs = []\n",
    "        for layer in self.linear_layers:\n",
    "            outputs.append(torch.sigmoid(layer(x)))\n",
    "            \n",
    "#         return outputs\n",
    "        # AVG SOFT PREDS FIRST, OR CALC LOSS ON EACH MODEL AND THEN AVG?\n",
    "        # IF SEPARATE, SHOULD WE AVG HARD PREDS OR SOFT?\n",
    "        final_pred = torch.mean(torch.cat(outputs, dim=1), dim=1)\n",
    "        return final_pred, outputs\n",
    "    \n",
    "    def k_weights(self):\n",
    "        \"\"\"Parameters for trainable layers following resnet34.\n",
    "        \n",
    "        IF USING BIAS IN LINEAR LAYERS, MUST USE n*2.\n",
    "        \"\"\"\n",
    "        return list(self.parameters())[-self.k:]\n",
    "    \n",
    "    def freeze(self, n=None):\n",
    "        \"\"\"By default, freeze all but the last layer (i.e. freeze all the \n",
    "        pre-trained layers). Passing in a larger value of n will unfreeze the\n",
    "        last n layers.\n",
    "        \n",
    "        IF USING BIAS IN LINEAR LAYERS, MUST USE n*2.\n",
    "        \"\"\"\n",
    "        if n is None:\n",
    "            n = self.k\n",
    "        for i, p in enumerate(self.parameters()):\n",
    "            if i < self.n_layers - n:\n",
    "                p.requires_grad = False\n",
    "            else:\n",
    "                p.requires_grad = True\n",
    "                \n",
    "    def unfreeze(self, n=None):\n",
    "        \"\"\"By default, unfreeze all layers. If n is passed in, unfreeze the \n",
    "        last n layers. This is just a helper function that may be less\n",
    "        confusing than using freeze() to unfreeze.\n",
    "        \"\"\"\n",
    "        if n is None:\n",
    "            self.freeze(self.n_layers)\n",
    "        else:\n",
    "            self.freeze(n)\n",
    "            \n",
    "    def dims(self):\n",
    "        \"\"\"Get shape of each layer's weights.\"\"\"\n",
    "        return [p.shape for p in self.parameters()]\n",
    "    \n",
    "    def trainable(self):\n",
    "        \"\"\"Check which layers are trainable.\"\"\"\n",
    "        return [p.requires_grad for p in self.parameters()]\n",
    "    \n",
    "    def layer_stats(self):\n",
    "        \"\"\"Check mean and standard deviation of each layer's weights.\"\"\"\n",
    "        return [(round(p.data.mean().item(), 3), \n",
    "                 round(p.data.std().item(), 3))\n",
    "                 for p in self.parameters()]"
   ]
  },
  {
   "cell_type": "code",
   "execution_count": 824,
   "metadata": {
    "ExecuteTime": {
     "end_time": "2019-06-01T23:59:21.565974Z",
     "start_time": "2019-06-01T23:59:21.558602Z"
    }
   },
   "outputs": [],
   "source": [
    "def parameter_loss(layers, loss=F.mse_loss, scale=standard_scale):\n",
    "    \"\"\"Compute similarity loss to penalize layers learning similar weights.\n",
    "    \n",
    "    Parameters\n",
    "    -----------\n",
    "    layers: list\n",
    "        Parameters for the layers that follow the pre-trained portion of the \n",
    "        model. Due to the bias terms, the list is actually k*2 items long.\n",
    "    criterion: function\n",
    "        Use to calculate loss.\n",
    "    scale: function\n",
    "        Use to scale weights. Options: torch.sigmoid, F.tanh, \n",
    "        nn.Softmax(dim=0) (softmax requires explicit dimension),\n",
    "        minmax_scale, standard_scale.\n",
    "    \"\"\"\n",
    "    weights = [scale(layer) for layer in layers]\n",
    "    total_loss = 0\n",
    "    for i, pair in enumerate(combinations(weights, 2)):\n",
    "        total_loss += loss(*pair)\n",
    "\n",
    "    # Return inverse of mean because we want a similarity measure.\n",
    "    return (i / total_loss)"
   ]
  },
  {
   "cell_type": "code",
   "execution_count": 741,
   "metadata": {
    "ExecuteTime": {
     "end_time": "2019-06-01T23:22:13.247934Z",
     "start_time": "2019-06-01T23:22:13.244107Z"
    }
   },
   "outputs": [],
   "source": [
    "def standard_scale(x):\n",
    "    \"\"\"Standardize using mean and standard deviation.\n",
    "    \n",
    "    Parameters\n",
    "    -----------\n",
    "    x: tensor\n",
    "    \"\"\"\n",
    "    return (x - x.mean()) / x.std()"
   ]
  },
  {
   "cell_type": "code",
   "execution_count": 742,
   "metadata": {
    "ExecuteTime": {
     "end_time": "2019-06-01T23:22:13.571971Z",
     "start_time": "2019-06-01T23:22:13.567019Z"
    }
   },
   "outputs": [],
   "source": [
    "def minmax_scale(x):\n",
    "    \"\"\"Standardize using mean and standard deviation.\n",
    "    \n",
    "    Parameters\n",
    "    -----------\n",
    "    x: tensor\n",
    "    \"\"\"\n",
    "    x_max = x.max()\n",
    "    x_min = x.min()\n",
    "    return (x - x_min) / (x_max - x_min)"
   ]
  },
  {
   "cell_type": "code",
   "execution_count": 829,
   "metadata": {
    "ExecuteTime": {
     "end_time": "2019-06-02T00:01:46.809927Z",
     "start_time": "2019-06-02T00:01:46.805139Z"
    }
   },
   "outputs": [],
   "source": [
    "def correlation(x, y):\n",
    "    \"\"\"Pearson correlation coefficient of two tensors.\"\"\"\n",
    "    x, y = x.flatten(), y.flatten()\n",
    "    x_sub = x - x.mean()\n",
    "    y_sub = y - y.mean()\n",
    "    n = x_sub @ y_sub\n",
    "    d = torch.sqrt(torch.sum(x_sub**2) * torch.sum(y_sub**2))\n",
    "    return n/d"
   ]
  },
  {
   "cell_type": "code",
   "execution_count": 832,
   "metadata": {
    "ExecuteTime": {
     "end_time": "2019-06-02T00:02:26.324008Z",
     "start_time": "2019-06-02T00:02:26.320766Z"
    }
   },
   "outputs": [],
   "source": [
    "def inverse_corr(x, y):\n",
    "    return torch.abs(1 / correlation(x, y))"
   ]
  },
  {
   "cell_type": "code",
   "execution_count": 861,
   "metadata": {
    "ExecuteTime": {
     "end_time": "2019-06-02T00:07:27.648110Z",
     "start_time": "2019-06-02T00:07:27.632027Z"
    }
   },
   "outputs": [],
   "source": [
    "def train(epochs, lr, train_dl, val_dl, alpha=.1, beta=.1, model=None, k=3, \n",
    "          loss=F.mse_loss):\n",
    "    if not model:\n",
    "        model = KNet(k)\n",
    "    optim = torch.optim.Adam(model.parameters(), lr)\n",
    "    \n",
    "    # Store stats to return at end.\n",
    "    losses = defaultdict(list)\n",
    "    \n",
    "    # Begin training loop.\n",
    "    for epoch in range(epochs):\n",
    "        model.train()\n",
    "        e_loss_total = 0\n",
    "        e_loss_main = 0\n",
    "        e_loss_output = 0\n",
    "        e_loss_weight = 0\n",
    "        e_correct = 0\n",
    "        e_total = 0\n",
    "        for x, y in train_dl:\n",
    "            x = x.to(device)\n",
    "            y = y.float().to(device)\n",
    "            batch_size = x.shape[0]\n",
    "            \n",
    "            # y_hat is tensor of soft predictions from averaging output of \n",
    "            # all k layers. Outputs contains soft predictions for each layer.\n",
    "            optim.zero_grad()\n",
    "            y_hat, outputs = model(x)\n",
    "#             main_loss = F.binary_cross_entropy(y_hat, y)\n",
    "#             output_loss = torch.tensor([F.binary_cross_entropy(out, y) \n",
    "#                                         for out in outputs], \n",
    "#                                         requires_grad=True).sum()\n",
    "            weight_loss = parameter_loss(model.k_weights(), loss=inverse_corr,\n",
    "                                         scale=minmax_scale)\n",
    "#             total_loss = main_loss + alpha*output_loss + beta*weight_loss\n",
    "#             total_loss.backward()\n",
    "#             optim.step()\n",
    "\n",
    "            # TESTING\n",
    "            main_loss, output_loss, total_loss = 0, 0, 0\n",
    "#             total_loss = main_loss + alpha*output_loss + beta*weight_loss\n",
    "            print('\\nbefore step', model.layer_stats()[-4:])  \n",
    "#             total_loss = main_loss + beta*weight_loss\n",
    "            weight_loss.backward()\n",
    "            optim.step()\n",
    "            print('after step', model.layer_stats()[-4:])  \n",
    "            # END TESTING\n",
    "            \n",
    "            # Update stats at end of batch.\n",
    "            e_loss_total += total_loss\n",
    "            e_loss_main += main_loss\n",
    "            e_loss_output += output_loss\n",
    "            e_loss_weight += weight_loss\n",
    "            e_correct += torch.sum(torch.round(y_hat).eq(y)).item()\n",
    "            e_total += batch_size\n",
    "            \n",
    "        # Calculate validation metrics.\n",
    "        val_loss, val_acc = val_metrics(model, val_dl)\n",
    "        train_acc = e_correct / e_total\n",
    "            \n",
    "        # Update stats at end of epoch.    \n",
    "        losses['total'].append(e_loss_total)\n",
    "        losses['main'].append(e_loss_main)\n",
    "        losses['output'].append(e_loss_output)\n",
    "        losses['weight'].append(e_loss_weight)\n",
    "        \n",
    "        print(f'\\nEpoch [{epoch+1}/{epochs}]'\n",
    "              f'\\nMain loss: {e_loss_main:.4f}'\n",
    "              f'\\tOutput losses: {e_loss_output:.4f}'\n",
    "              f'\\tWeight loss: {e_loss_weight:.4f}'\n",
    "              f'\\tTotal loss: {e_loss_total:.4f}'\n",
    "              f'\\tTrain acc: {train_acc:.4f}'\n",
    "              f'\\nValidation loss: {val_loss:.4f}'\n",
    "              f'\\tValidation acc: {val_acc:.4f}')\n",
    "\n",
    "    return dict(model=model, losses=losses)"
   ]
  },
  {
   "cell_type": "code",
   "execution_count": 862,
   "metadata": {
    "ExecuteTime": {
     "end_time": "2019-06-02T00:07:28.295856Z",
     "start_time": "2019-06-02T00:07:28.288658Z"
    }
   },
   "outputs": [],
   "source": [
    "def val_metrics(model, val_dl):\n",
    "    model.eval()\n",
    "    with torch.no_grad():\n",
    "        total_loss = 0\n",
    "        total = 0\n",
    "        correct = 0\n",
    "        for x, y, in val_dl:\n",
    "            x, y = x.to(device), y.float().to(device)\n",
    "            y_hat, _ = model(x)\n",
    "            loss = F.binary_cross_entropy(y_hat, y, reduction='sum')\n",
    "            total_loss += loss\n",
    "            total += x.shape[0]\n",
    "            correct += torch.sum(torch.round(y_hat).eq(y)).item()\n",
    "    return total_loss / total, correct / total"
   ]
  },
  {
   "cell_type": "code",
   "execution_count": 863,
   "metadata": {
    "ExecuteTime": {
     "end_time": "2019-06-02T00:07:28.693751Z",
     "start_time": "2019-06-02T00:07:28.687559Z"
    }
   },
   "outputs": [],
   "source": [
    "ngpu = 1\n",
    "device = torch.device('cuda:0' if torch.cuda.is_available() and ngpu > 0 \n",
    "                      else 'cpu')"
   ]
  },
  {
   "cell_type": "code",
   "execution_count": 864,
   "metadata": {
    "ExecuteTime": {
     "end_time": "2019-06-02T00:07:28.890760Z",
     "start_time": "2019-06-02T00:07:28.887227Z"
    }
   },
   "outputs": [],
   "source": [
    "# model = KNet(3)"
   ]
  },
  {
   "cell_type": "code",
   "execution_count": 866,
   "metadata": {
    "ExecuteTime": {
     "end_time": "2019-06-02T00:08:33.985029Z",
     "start_time": "2019-06-02T00:07:50.472097Z"
    },
    "scrolled": true
   },
   "outputs": [
    {
     "name": "stdout",
     "output_type": "stream",
     "text": [
      "\n",
      "before step [(0.136, 0.047), (-0.001, 0.026), (-0.003, 0.026), (-0.002, 0.026)]\n",
      "after step [(0.136, 0.047), (0.116, 3.002), (-0.109, 3.0), (-0.19, 2.997)]\n",
      "\n",
      "before step [(0.136, 0.047), (0.116, 3.002), (-0.109, 3.0), (-0.19, 2.997)]\n",
      "after step [(0.136, 0.047), (0.195, 5.013), (-0.213, 4.992), (-0.33, 4.996)]\n",
      "\n",
      "before step [(0.136, 0.047), (0.195, 5.013), (-0.213, 4.992), (-0.33, 4.996)]\n",
      "after step [(0.136, 0.047), (0.256, 6.574), (-0.288, 6.538), (-0.435, 6.544)]\n",
      "\n",
      "Epoch [1/10]\n",
      "Main loss: 0.0000\tOutput losses: 0.0000\tWeight loss: 0.1056\tTotal loss: 0.0000\tTrain acc: 0.7000\n",
      "Validation loss: 1.3865\tValidation acc: 0.4000\n",
      "\n",
      "before step [(0.136, 0.047), (0.256, 6.574), (-0.288, 6.538), (-0.435, 6.544)]\n",
      "after step [(0.136, 0.047), (0.307, 7.859), (-0.348, 7.805), (-0.52, 7.809)]\n",
      "\n",
      "before step [(0.136, 0.047), (0.307, 7.859), (-0.348, 7.805), (-0.52, 7.809)]\n",
      "after step [(0.136, 0.047), (0.351, 8.955), (-0.397, 8.877), (-0.59, 8.878)]\n",
      "\n",
      "before step [(0.136, 0.047), (0.351, 8.955), (-0.397, 8.877), (-0.59, 8.878)]\n",
      "after step [(0.136, 0.047), (0.39, 9.909), (-0.439, 9.803), (-0.65, 9.798)]\n",
      "\n",
      "Epoch [2/10]\n",
      "Main loss: 0.0000\tOutput losses: 0.0000\tWeight loss: 0.2241\tTotal loss: 0.0000\tTrain acc: 0.6500\n",
      "Validation loss: 0.9750\tValidation acc: 0.3833\n",
      "\n",
      "before step [(0.136, 0.047), (0.39, 9.909), (-0.439, 9.803), (-0.65, 9.798)]\n",
      "after step [(0.136, 0.047), (0.424, 10.753), (-0.476, 10.612), (-0.701, 10.601)]\n",
      "\n",
      "before step [(0.136, 0.047), (0.424, 10.753), (-0.476, 10.612), (-0.701, 10.601)]\n",
      "after step [(0.136, 0.047), (0.454, 11.511), (-0.509, 11.326), (-0.746, 11.309)]\n",
      "\n",
      "before step [(0.136, 0.047), (0.454, 11.511), (-0.509, 11.326), (-0.746, 11.309)]\n",
      "after step [(0.136, 0.047), (0.482, 12.199), (-0.539, 11.963), (-0.786, 11.937)]\n",
      "\n",
      "Epoch [3/10]\n",
      "Main loss: 0.0000\tOutput losses: 0.0000\tWeight loss: 0.1774\tTotal loss: 0.0000\tTrain acc: 0.7500\n",
      "Validation loss: 1.1985\tValidation acc: 0.4222\n",
      "\n",
      "before step [(0.136, 0.047), (0.482, 12.199), (-0.539, 11.963), (-0.786, 11.937)]\n",
      "after step [(0.136, 0.047), (0.507, 12.832), (-0.567, 12.533), (-0.821, 12.498)]\n",
      "\n",
      "before step [(0.136, 0.047), (0.507, 12.832), (-0.567, 12.533), (-0.821, 12.498)]\n",
      "after step [(0.136, 0.047), (0.53, 13.422), (-0.594, 13.048), (-0.852, 13.0)]\n",
      "\n",
      "before step [(0.136, 0.047), (0.53, 13.422), (-0.594, 13.048), (-0.852, 13.0)]\n",
      "after step [(0.136, 0.047), (0.548, 13.918), (-0.616, 13.506), (-0.88, 13.452)]\n",
      "\n",
      "Epoch [4/10]\n",
      "Main loss: 0.0000\tOutput losses: 0.0000\tWeight loss: 0.0709\tTotal loss: 0.0000\tTrain acc: 0.5000\n",
      "Validation loss: 1.2666\tValidation acc: 0.3944\n",
      "\n",
      "before step [(0.136, 0.047), (0.548, 13.918), (-0.616, 13.506), (-0.88, 13.452)]\n",
      "after step [(0.136, 0.047), (0.564, 14.342), (-0.633, 13.915), (-0.906, 13.859)]\n",
      "\n",
      "before step [(0.136, 0.047), (0.564, 14.342), (-0.633, 13.915), (-0.906, 13.859)]\n",
      "after step [(0.136, 0.047), (0.577, 14.702), (-0.646, 14.281), (-0.929, 14.227)]\n",
      "\n",
      "before step [(0.136, 0.047), (0.577, 14.702), (-0.646, 14.281), (-0.929, 14.227)]\n",
      "after step [(0.136, 0.047), (0.589, 15.008), (-0.656, 14.608), (-0.949, 14.56)]\n",
      "\n",
      "Epoch [5/10]\n",
      "Main loss: 0.0000\tOutput losses: 0.0000\tWeight loss: 0.0490\tTotal loss: 0.0000\tTrain acc: 0.6500\n",
      "Validation loss: 2.0765\tValidation acc: 0.4333\n",
      "\n",
      "before step [(0.136, 0.047), (0.589, 15.008), (-0.656, 14.608), (-0.949, 14.56)]\n",
      "after step [(0.136, 0.047), (0.599, 15.307), (-0.668, 14.908), (-0.968, 14.862)]\n",
      "\n",
      "before step [(0.136, 0.047), (0.599, 15.307), (-0.668, 14.908), (-0.968, 14.862)]\n",
      "after step [(0.136, 0.047), (0.61, 15.597), (-0.68, 15.184), (-0.985, 15.136)]\n",
      "\n",
      "before step [(0.136, 0.047), (0.61, 15.597), (-0.68, 15.184), (-0.985, 15.136)]\n",
      "after step [(0.136, 0.047), (0.62, 15.878), (-0.694, 15.439), (-1.001, 15.384)]\n",
      "\n",
      "Epoch [6/10]\n",
      "Main loss: 0.0000\tOutput losses: 0.0000\tWeight loss: 0.0267\tTotal loss: 0.0000\tTrain acc: 0.5500\n",
      "Validation loss: 2.1179\tValidation acc: 0.4444\n",
      "\n",
      "before step [(0.136, 0.047), (0.62, 15.878), (-0.694, 15.439), (-1.001, 15.384)]\n",
      "after step [(0.136, 0.047), (0.629, 16.113), (-0.704, 15.666), (-1.015, 15.611)]\n",
      "\n",
      "before step [(0.136, 0.047), (0.629, 16.113), (-0.704, 15.666), (-1.015, 15.611)]\n",
      "after step [(0.136, 0.047), (0.636, 16.309), (-0.711, 15.869), (-1.027, 15.816)]\n",
      "\n",
      "before step [(0.136, 0.047), (0.636, 16.309), (-0.711, 15.869), (-1.027, 15.816)]\n",
      "after step [(0.136, 0.047), (0.641, 16.468), (-0.714, 16.05), (-1.039, 16.003)]\n",
      "\n",
      "Epoch [7/10]\n",
      "Main loss: 0.0000\tOutput losses: 0.0000\tWeight loss: 0.0145\tTotal loss: 0.0000\tTrain acc: 0.6000\n",
      "Validation loss: 1.6079\tValidation acc: 0.4444\n",
      "\n",
      "before step [(0.136, 0.047), (0.641, 16.468), (-0.714, 16.05), (-1.039, 16.003)]\n",
      "after step [(0.136, 0.047), (0.647, 16.629), (-0.72, 16.218), (-1.05, 16.174)]\n",
      "\n",
      "before step [(0.136, 0.047), (0.647, 16.629), (-0.72, 16.218), (-1.05, 16.174)]\n",
      "after step [(0.136, 0.047), (0.652, 16.787), (-0.726, 16.374), (-1.059, 16.329)]\n",
      "\n",
      "before step [(0.136, 0.047), (0.652, 16.787), (-0.726, 16.374), (-1.059, 16.329)]\n",
      "after step [(0.136, 0.047), (0.658, 16.943), (-0.733, 16.518), (-1.068, 16.47)]\n",
      "\n",
      "Epoch [8/10]\n",
      "Main loss: 0.0000\tOutput losses: 0.0000\tWeight loss: 0.0547\tTotal loss: 0.0000\tTrain acc: 0.6500\n",
      "Validation loss: 2.5592\tValidation acc: 0.4278\n",
      "\n",
      "before step [(0.136, 0.047), (0.658, 16.943), (-0.733, 16.518), (-1.068, 16.47)]\n",
      "after step [(0.136, 0.047), (0.664, 17.099), (-0.742, 16.651), (-1.075, 16.598)]\n",
      "\n",
      "before step [(0.136, 0.047), (0.664, 17.099), (-0.742, 16.651), (-1.075, 16.598)]\n",
      "after step [(0.136, 0.047), (0.67, 17.26), (-0.752, 16.777), (-1.083, 16.715)]\n",
      "\n",
      "before step [(0.136, 0.047), (0.67, 17.26), (-0.752, 16.777), (-1.083, 16.715)]\n",
      "after step [(0.136, 0.047), (0.674, 17.394), (-0.76, 16.889), (-1.089, 16.822)]\n",
      "\n",
      "Epoch [9/10]\n",
      "Main loss: 0.0000\tOutput losses: 0.0000\tWeight loss: 0.0344\tTotal loss: 0.0000\tTrain acc: 0.7500\n",
      "Validation loss: 2.4197\tValidation acc: 0.4389\n",
      "\n",
      "before step [(0.136, 0.047), (0.674, 17.394), (-0.76, 16.889), (-1.089, 16.822)]\n",
      "after step [(0.136, 0.047), (0.678, 17.504), (-0.765, 16.988), (-1.095, 16.919)]\n",
      "\n",
      "before step [(0.136, 0.047), (0.678, 17.504), (-0.765, 16.988), (-1.095, 16.919)]\n",
      "after step [(0.136, 0.047), (0.681, 17.593), (-0.767, 17.076), (-1.1, 17.008)]\n",
      "\n",
      "before step [(0.136, 0.047), (0.681, 17.593), (-0.767, 17.076), (-1.1, 17.008)]\n",
      "after step [(0.136, 0.047), (0.684, 17.662), (-0.768, 17.154), (-1.105, 17.088)]\n",
      "\n",
      "Epoch [10/10]\n",
      "Main loss: 0.0000\tOutput losses: 0.0000\tWeight loss: 0.0764\tTotal loss: 0.0000\tTrain acc: 0.6000\n",
      "Validation loss: 2.4718\tValidation acc: 0.4222\n"
     ]
    }
   ],
   "source": [
    "# NOTICE BETA=1 ATM.\n",
    "lr = 3\n",
    "output = train(10, lr, train_dl, val_dl, alpha=.1, beta=1, k=3)"
   ]
  },
  {
   "cell_type": "code",
   "execution_count": 867,
   "metadata": {
    "ExecuteTime": {
     "end_time": "2019-06-02T00:08:37.316133Z",
     "start_time": "2019-06-02T00:08:33.987615Z"
    }
   },
   "outputs": [
    {
     "data": {
      "text/plain": [
       "(tensor(2.4718), 0.4222222222222222)"
      ]
     },
     "execution_count": 867,
     "metadata": {},
     "output_type": "execute_result"
    }
   ],
   "source": [
    "val_metrics(output['model'], val_dl)"
   ]
  },
  {
   "cell_type": "code",
   "execution_count": 868,
   "metadata": {
    "ExecuteTime": {
     "end_time": "2019-06-02T00:08:37.322521Z",
     "start_time": "2019-06-02T00:08:37.318267Z"
    }
   },
   "outputs": [],
   "source": [
    "def plot_losses(output):\n",
    "    fig, ax = plt.subplots()\n",
    "    for k, v in output['losses'].items():\n",
    "        ax.plot(v, label=k)\n",
    "    plt.legend()\n",
    "    plt.show()"
   ]
  },
  {
   "cell_type": "code",
   "execution_count": 872,
   "metadata": {
    "ExecuteTime": {
     "end_time": "2019-06-02T06:41:13.379730Z",
     "start_time": "2019-06-02T06:41:12.965850Z"
    },
    "scrolled": true
   },
   "outputs": [
    {
     "data": {
      "image/png": "[encoded data removed]",
      "text/plain": [
       "<Figure size 432x288 with 1 Axes>"
      ]
     },
     "metadata": {
      "needs_background": "light"
     },
     "output_type": "display_data"
    }
   ],
   "source": [
    "plot_losses(output)"
   ]
  },
  {
   "cell_type": "code",
   "execution_count": 870,
   "metadata": {
    "ExecuteTime": {
     "end_time": "2019-06-02T00:08:37.545466Z",
     "start_time": "2019-06-02T00:08:37.537152Z"
    }
   },
   "outputs": [
    {
     "data": {
      "text/plain": [
       "defaultdict(list,\n",
       "            {'total': [0, 0, 0, 0, 0, 0, 0, 0, 0, 0],\n",
       "             'main': [0, 0, 0, 0, 0, 0, 0, 0, 0, 0],\n",
       "             'output': [0, 0, 0, 0, 0, 0, 0, 0, 0, 0],\n",
       "             'weight': [tensor(0.1056, grad_fn=<AddBackward0>),\n",
       "              tensor(0.2241, grad_fn=<AddBackward0>),\n",
       "              tensor(0.1774, grad_fn=<AddBackward0>),\n",
       "              tensor(0.0709, grad_fn=<AddBackward0>),\n",
       "              tensor(0.0490, grad_fn=<AddBackward0>),\n",
       "              tensor(0.0267, grad_fn=<AddBackward0>),\n",
       "              tensor(0.0145, grad_fn=<AddBackward0>),\n",
       "              tensor(0.0547, grad_fn=<AddBackward0>),\n",
       "              tensor(0.0344, grad_fn=<AddBackward0>),\n",
       "              tensor(0.0764, grad_fn=<AddBackward0>)]})"
      ]
     },
     "execution_count": 870,
     "metadata": {},
     "output_type": "execute_result"
    }
   ],
   "source": [
    "output['losses']"
   ]
  },
  {
   "cell_type": "code",
   "execution_count": 871,
   "metadata": {
    "ExecuteTime": {
     "end_time": "2019-06-02T00:08:37.682490Z",
     "start_time": "2019-06-02T00:08:37.547028Z"
    }
   },
   "outputs": [
    {
     "data": {
      "image/png": "[encoded data removed]",
      "text/plain": [
       "<Figure size 432x288 with 1 Axes>"
      ]
     },
     "metadata": {
      "needs_background": "light"
     },
     "output_type": "display_data"
    }
   ],
   "source": [
    "fig, ax = plt.subplots()\n",
    "ax.plot(output['losses']['weight'])\n",
    "plt.show()"
   ]
  },
  {
   "cell_type": "code",
   "execution_count": null,
   "metadata": {},
   "outputs": [],
   "source": [
    "model.layer_stats"
   ]
  },
  {
   "cell_type": "code",
   "execution_count": 833,
   "metadata": {
    "ExecuteTime": {
     "end_time": "2019-06-02T00:02:30.399907Z",
     "start_time": "2019-06-02T00:02:30.392520Z"
    }
   },
   "outputs": [
    {
     "data": {
      "text/plain": [
       "tensor(1.3414e+08, grad_fn=<MulBackward0>)"
      ]
     },
     "execution_count": 833,
     "metadata": {},
     "output_type": "execute_result"
    }
   ],
   "source": [
    "tmp = parameter_loss(model.k_weights(), scale=nn.Softmax(dim=1))\n",
    "tmp"
   ]
  },
  {
   "cell_type": "code",
   "execution_count": 834,
   "metadata": {
    "ExecuteTime": {
     "end_time": "2019-06-02T00:02:31.110606Z",
     "start_time": "2019-06-02T00:02:31.099948Z"
    }
   },
   "outputs": [
    {
     "data": {
      "text/plain": [
       "tensor(0.0082, grad_fn=<MulBackward0>)"
      ]
     },
     "execution_count": 834,
     "metadata": {},
     "output_type": "execute_result"
    }
   ],
   "source": [
    "parameter_loss(model.k_weights(), loss=inverse_corr, scale=lambda x: x)"
   ]
  },
  {
   "cell_type": "code",
   "execution_count": 424,
   "metadata": {
    "ExecuteTime": {
     "end_time": "2019-06-01T21:30:57.317542Z",
     "start_time": "2019-06-01T21:30:57.092823Z"
    }
   },
   "outputs": [
    {
     "data": {
      "text/plain": [
       "(2, torch.Size([8]), [tensor([[0.4032],\n",
       "          [0.7646],\n",
       "          [0.4726],\n",
       "          [0.9294],\n",
       "          [0.7303],\n",
       "          [0.6757],\n",
       "          [0.3103],\n",
       "          [0.5416]], grad_fn=<SigmoidBackward>), tensor([[0.2480],\n",
       "          [0.4061],\n",
       "          [0.4896],\n",
       "          [0.2512],\n",
       "          [0.6784],\n",
       "          [0.2211],\n",
       "          [0.3156],\n",
       "          [0.6015]], grad_fn=<SigmoidBackward>), tensor([[0.8572],\n",
       "          [0.4351],\n",
       "          [0.5597],\n",
       "          [0.2690],\n",
       "          [0.4812],\n",
       "          [0.6606],\n",
       "          [0.4983],\n",
       "          [0.5077]], grad_fn=<SigmoidBackward>)])"
      ]
     },
     "execution_count": 424,
     "metadata": {},
     "output_type": "execute_result"
    }
   ],
   "source": [
    "y_tmp = model(x_tmp)\n",
    "len(y_tmp), y_tmp[0].shape, y_tmp[1]"
   ]
  },
  {
   "cell_type": "code",
   "execution_count": 675,
   "metadata": {
    "ExecuteTime": {
     "end_time": "2019-06-01T23:04:03.455503Z",
     "start_time": "2019-06-01T23:04:03.447111Z"
    }
   },
   "outputs": [
    {
     "data": {
      "text/plain": [
       "tensor([1., 1., 1., 0., 1., 1., 0., 1.], grad_fn=<RoundBackward>)"
      ]
     },
     "execution_count": 675,
     "metadata": {},
     "output_type": "execute_result"
    }
   ],
   "source": [
    "torch.round(y_tmp[0])"
   ]
  },
  {
   "cell_type": "code",
   "execution_count": 676,
   "metadata": {
    "ExecuteTime": {
     "end_time": "2019-06-01T23:04:22.655703Z",
     "start_time": "2019-06-01T23:04:22.647081Z"
    }
   },
   "outputs": [
    {
     "data": {
      "text/plain": [
       "tensor([0.5028, 0.5352, 0.5073, 0.4832, 0.6300, 0.5191, 0.3747, 0.5503],\n",
       "       grad_fn=<MeanBackward0>)"
      ]
     },
     "execution_count": 676,
     "metadata": {},
     "output_type": "execute_result"
    }
   ],
   "source": [
    "y_tmp[0]"
   ]
  },
  {
   "cell_type": "code",
   "execution_count": 130,
   "metadata": {
    "ExecuteTime": {
     "end_time": "2019-05-31T07:38:54.818851Z",
     "start_time": "2019-05-31T07:38:54.810786Z"
    }
   },
   "outputs": [
    {
     "data": {
      "text/plain": [
       "[PosixPath('data/zebra'), PosixPath('data/horse')]"
      ]
     },
     "execution_count": 130,
     "metadata": {},
     "output_type": "execute_result"
    }
   ],
   "source": [
    "list(path.iterdir())"
   ]
  },
  {
   "cell_type": "code",
   "execution_count": null,
   "metadata": {},
   "outputs": [],
   "source": []
  }
 ],
 "metadata": {
  "kernelspec": {
   "display_name": "Python 3",
   "language": "python",
   "name": "python3"
  },
  "language_info": {
   "codemirror_mode": {
    "name": "ipython",
    "version": 3
   },
   "file_extension": ".py",
   "mimetype": "text/x-python",
   "name": "python",
   "nbconvert_exporter": "python",
   "pygments_lexer": "ipython3",
   "version": "3.7.1"
  }
 },
 "nbformat": 4,
 "nbformat_minor": 2
}
